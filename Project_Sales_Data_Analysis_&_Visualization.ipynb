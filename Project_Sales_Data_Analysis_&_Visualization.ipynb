{
  "nbformat": 4,
  "nbformat_minor": 0,
  "metadata": {
    "colab": {
      "provenance": []
    },
    "kernelspec": {
      "name": "python3",
      "display_name": "Python 3"
    },
    "language_info": {
      "name": "python"
    }
  },
  "cells": [
    {
      "cell_type": "markdown",
      "source": [
        "# **Project: Sales Data Analysis & Visualization**"
      ],
      "metadata": {
        "id": "z_u6d3DCkYHP"
      }
    },
    {
      "cell_type": "markdown",
      "source": [
        "**Uploading CSV File**"
      ],
      "metadata": {
        "id": "IBTLMv8TkMJ0"
      }
    },
    {
      "cell_type": "code",
      "execution_count": 6,
      "metadata": {
        "colab": {
          "base_uri": "https://localhost:8080/",
          "height": 73
        },
        "id": "NxnvxlPH1f5o",
        "outputId": "8133f3b2-9cdf-4ee3-d0c4-adcb7acafd0f"
      },
      "outputs": [
        {
          "output_type": "display_data",
          "data": {
            "text/plain": [
              "<IPython.core.display.HTML object>"
            ],
            "text/html": [
              "\n",
              "     <input type=\"file\" id=\"files-34208625-700d-4dc6-849d-06569c37831d\" name=\"files[]\" multiple disabled\n",
              "        style=\"border:none\" />\n",
              "     <output id=\"result-34208625-700d-4dc6-849d-06569c37831d\">\n",
              "      Upload widget is only available when the cell has been executed in the\n",
              "      current browser session. Please rerun this cell to enable.\n",
              "      </output>\n",
              "      <script>// Copyright 2017 Google LLC\n",
              "//\n",
              "// Licensed under the Apache License, Version 2.0 (the \"License\");\n",
              "// you may not use this file except in compliance with the License.\n",
              "// You may obtain a copy of the License at\n",
              "//\n",
              "//      http://www.apache.org/licenses/LICENSE-2.0\n",
              "//\n",
              "// Unless required by applicable law or agreed to in writing, software\n",
              "// distributed under the License is distributed on an \"AS IS\" BASIS,\n",
              "// WITHOUT WARRANTIES OR CONDITIONS OF ANY KIND, either express or implied.\n",
              "// See the License for the specific language governing permissions and\n",
              "// limitations under the License.\n",
              "\n",
              "/**\n",
              " * @fileoverview Helpers for google.colab Python module.\n",
              " */\n",
              "(function(scope) {\n",
              "function span(text, styleAttributes = {}) {\n",
              "  const element = document.createElement('span');\n",
              "  element.textContent = text;\n",
              "  for (const key of Object.keys(styleAttributes)) {\n",
              "    element.style[key] = styleAttributes[key];\n",
              "  }\n",
              "  return element;\n",
              "}\n",
              "\n",
              "// Max number of bytes which will be uploaded at a time.\n",
              "const MAX_PAYLOAD_SIZE = 100 * 1024;\n",
              "\n",
              "function _uploadFiles(inputId, outputId) {\n",
              "  const steps = uploadFilesStep(inputId, outputId);\n",
              "  const outputElement = document.getElementById(outputId);\n",
              "  // Cache steps on the outputElement to make it available for the next call\n",
              "  // to uploadFilesContinue from Python.\n",
              "  outputElement.steps = steps;\n",
              "\n",
              "  return _uploadFilesContinue(outputId);\n",
              "}\n",
              "\n",
              "// This is roughly an async generator (not supported in the browser yet),\n",
              "// where there are multiple asynchronous steps and the Python side is going\n",
              "// to poll for completion of each step.\n",
              "// This uses a Promise to block the python side on completion of each step,\n",
              "// then passes the result of the previous step as the input to the next step.\n",
              "function _uploadFilesContinue(outputId) {\n",
              "  const outputElement = document.getElementById(outputId);\n",
              "  const steps = outputElement.steps;\n",
              "\n",
              "  const next = steps.next(outputElement.lastPromiseValue);\n",
              "  return Promise.resolve(next.value.promise).then((value) => {\n",
              "    // Cache the last promise value to make it available to the next\n",
              "    // step of the generator.\n",
              "    outputElement.lastPromiseValue = value;\n",
              "    return next.value.response;\n",
              "  });\n",
              "}\n",
              "\n",
              "/**\n",
              " * Generator function which is called between each async step of the upload\n",
              " * process.\n",
              " * @param {string} inputId Element ID of the input file picker element.\n",
              " * @param {string} outputId Element ID of the output display.\n",
              " * @return {!Iterable<!Object>} Iterable of next steps.\n",
              " */\n",
              "function* uploadFilesStep(inputId, outputId) {\n",
              "  const inputElement = document.getElementById(inputId);\n",
              "  inputElement.disabled = false;\n",
              "\n",
              "  const outputElement = document.getElementById(outputId);\n",
              "  outputElement.innerHTML = '';\n",
              "\n",
              "  const pickedPromise = new Promise((resolve) => {\n",
              "    inputElement.addEventListener('change', (e) => {\n",
              "      resolve(e.target.files);\n",
              "    });\n",
              "  });\n",
              "\n",
              "  const cancel = document.createElement('button');\n",
              "  inputElement.parentElement.appendChild(cancel);\n",
              "  cancel.textContent = 'Cancel upload';\n",
              "  const cancelPromise = new Promise((resolve) => {\n",
              "    cancel.onclick = () => {\n",
              "      resolve(null);\n",
              "    };\n",
              "  });\n",
              "\n",
              "  // Wait for the user to pick the files.\n",
              "  const files = yield {\n",
              "    promise: Promise.race([pickedPromise, cancelPromise]),\n",
              "    response: {\n",
              "      action: 'starting',\n",
              "    }\n",
              "  };\n",
              "\n",
              "  cancel.remove();\n",
              "\n",
              "  // Disable the input element since further picks are not allowed.\n",
              "  inputElement.disabled = true;\n",
              "\n",
              "  if (!files) {\n",
              "    return {\n",
              "      response: {\n",
              "        action: 'complete',\n",
              "      }\n",
              "    };\n",
              "  }\n",
              "\n",
              "  for (const file of files) {\n",
              "    const li = document.createElement('li');\n",
              "    li.append(span(file.name, {fontWeight: 'bold'}));\n",
              "    li.append(span(\n",
              "        `(${file.type || 'n/a'}) - ${file.size} bytes, ` +\n",
              "        `last modified: ${\n",
              "            file.lastModifiedDate ? file.lastModifiedDate.toLocaleDateString() :\n",
              "                                    'n/a'} - `));\n",
              "    const percent = span('0% done');\n",
              "    li.appendChild(percent);\n",
              "\n",
              "    outputElement.appendChild(li);\n",
              "\n",
              "    const fileDataPromise = new Promise((resolve) => {\n",
              "      const reader = new FileReader();\n",
              "      reader.onload = (e) => {\n",
              "        resolve(e.target.result);\n",
              "      };\n",
              "      reader.readAsArrayBuffer(file);\n",
              "    });\n",
              "    // Wait for the data to be ready.\n",
              "    let fileData = yield {\n",
              "      promise: fileDataPromise,\n",
              "      response: {\n",
              "        action: 'continue',\n",
              "      }\n",
              "    };\n",
              "\n",
              "    // Use a chunked sending to avoid message size limits. See b/62115660.\n",
              "    let position = 0;\n",
              "    do {\n",
              "      const length = Math.min(fileData.byteLength - position, MAX_PAYLOAD_SIZE);\n",
              "      const chunk = new Uint8Array(fileData, position, length);\n",
              "      position += length;\n",
              "\n",
              "      const base64 = btoa(String.fromCharCode.apply(null, chunk));\n",
              "      yield {\n",
              "        response: {\n",
              "          action: 'append',\n",
              "          file: file.name,\n",
              "          data: base64,\n",
              "        },\n",
              "      };\n",
              "\n",
              "      let percentDone = fileData.byteLength === 0 ?\n",
              "          100 :\n",
              "          Math.round((position / fileData.byteLength) * 100);\n",
              "      percent.textContent = `${percentDone}% done`;\n",
              "\n",
              "    } while (position < fileData.byteLength);\n",
              "  }\n",
              "\n",
              "  // All done.\n",
              "  yield {\n",
              "    response: {\n",
              "      action: 'complete',\n",
              "    }\n",
              "  };\n",
              "}\n",
              "\n",
              "scope.google = scope.google || {};\n",
              "scope.google.colab = scope.google.colab || {};\n",
              "scope.google.colab._files = {\n",
              "  _uploadFiles,\n",
              "  _uploadFilesContinue,\n",
              "};\n",
              "})(self);\n",
              "</script> "
            ]
          },
          "metadata": {}
        },
        {
          "output_type": "stream",
          "name": "stdout",
          "text": [
            "Saving SalesData.csv to SalesData.csv\n"
          ]
        }
      ],
      "source": [
        "from google.colab import files\n",
        "uploaded = files.upload()\n"
      ]
    },
    {
      "cell_type": "markdown",
      "source": [
        "**Data Cleaning Using Python**"
      ],
      "metadata": {
        "id": "-PdKFcFMj21U"
      }
    },
    {
      "cell_type": "code",
      "source": [
        "import pandas as pd\n",
        "\n",
        "# Load dataset\n",
        "df = pd.read_csv(\"SalesData.csv\")\n",
        "\n",
        "# Convert 'Date' column to datetime format\n",
        "df['Date'] = pd.to_datetime(df['Date'])\n",
        "\n",
        "# Remove duplicates (if any)\n",
        "df.drop_duplicates(inplace=True)\n",
        "\n",
        "# Remove \"%\" from 'Discount' column and convert to numeric\n",
        "df['Discount'] = df['Discount'].str.replace('%', '').astype(float)\n",
        "\n",
        "# Add a new column 'Revenue' (Sales after discount)\n",
        "df['Revenue'] = df['Sales'] - (df['Sales'] * df['Discount'] / 100)\n",
        "pd.set_option('display.expand_frame_repr', False)\n",
        "\n",
        "print(df.head())  # Show first 5 rows\n"
      ],
      "metadata": {
        "colab": {
          "base_uri": "https://localhost:8080/"
        },
        "id": "QamucVNH2Eyl",
        "outputId": "efc31011-b6b2-4fd0-db4c-5ea14eaca154"
      },
      "execution_count": 7,
      "outputs": [
        {
          "output_type": "stream",
          "name": "stdout",
          "text": [
            "        Date       Product     Category    Sales  QuantitySold CustomerLocation   Profit  Discount  Unnamed: 8  Revenue\n",
            "0 2024-01-01        Laptop  Electronics  75000.0           3.0           Mumbai  12000.0       5.0         NaN  71250.0\n",
            "1 2024-02-01    Smartphone  Electronics  30000.0           5.0            Delhi   5000.0      10.0         NaN  27000.0\n",
            "2 2024-03-01          Sofa    Furniture  15000.0           2.0        Bangalore   2500.0       8.0         NaN  13800.0\n",
            "3 2024-04-01    Headphones  Electronics   5000.0           4.0          Chennai   1000.0       7.0         NaN   4650.0\n",
            "4 2024-05-01  Dining Table    Furniture  20000.0           1.0             Pune   3500.0       5.0         NaN  19000.0\n"
          ]
        }
      ]
    },
    {
      "cell_type": "markdown",
      "source": [
        "**Total Sales and Profit per Category**"
      ],
      "metadata": {
        "id": "6padSh7HjxSg"
      }
    },
    {
      "cell_type": "markdown",
      "source": [
        "This shows which category (Electronics, Furniture) generates the most revenue."
      ],
      "metadata": {
        "id": "t85oO-TwnAfl"
      }
    },
    {
      "cell_type": "code",
      "source": [
        "category_sales = df.groupby(\"Category\")[[\"Sales\", \"Profit\"]].sum()\n",
        "print(category_sales)\n"
      ],
      "metadata": {
        "colab": {
          "base_uri": "https://localhost:8080/"
        },
        "id": "kPovMmzf2Klg",
        "outputId": "11a83a2b-35b8-466d-c970-fc24aa9c48c1"
      },
      "execution_count": 8,
      "outputs": [
        {
          "output_type": "stream",
          "name": "stdout",
          "text": [
            "                Sales   Profit\n",
            "Category                      \n",
            "Electronics  110000.0  18000.0\n",
            "Furniture     35000.0   6000.0\n"
          ]
        }
      ]
    },
    {
      "cell_type": "markdown",
      "source": [
        "**Top 5 Best-Selling Products**"
      ],
      "metadata": {
        "id": "0Opyde2jjrXE"
      }
    },
    {
      "cell_type": "markdown",
      "source": [
        "This identify the highest-selling products"
      ],
      "metadata": {
        "id": "2yA-RSQ3nE2J"
      }
    },
    {
      "cell_type": "code",
      "source": [
        "top_products = df.groupby(\"Product\")[[\"Sales\"]].sum().sort_values(by=\"Sales\", ascending=False).head(5).reset_index()\n",
        "print(top_products)\n",
        "\n"
      ],
      "metadata": {
        "colab": {
          "base_uri": "https://localhost:8080/"
        },
        "id": "Bn7Rm_u_2Wcy",
        "outputId": "cc0be725-7642-448a-c5fa-b9a33ff3b2d6"
      },
      "execution_count": 9,
      "outputs": [
        {
          "output_type": "stream",
          "name": "stdout",
          "text": [
            "        Product    Sales\n",
            "0        Laptop  75000.0\n",
            "1    Smartphone  30000.0\n",
            "2  Dining Table  20000.0\n",
            "3          Sofa  15000.0\n",
            "4    Headphones   5000.0\n"
          ]
        }
      ]
    },
    {
      "cell_type": "markdown",
      "source": [
        "**Monthly Sales Trend**"
      ],
      "metadata": {
        "id": "0s59RCNjjhA-"
      }
    },
    {
      "cell_type": "markdown",
      "source": [
        "This shows how sales change over time"
      ],
      "metadata": {
        "id": "Hs75q9jenRKs"
      }
    },
    {
      "cell_type": "code",
      "source": [
        "df['Month'] = df['Date'].dt.strftime('%Y-%m')  # Extract month\n",
        "monthly_sales = df.groupby(\"Month\")[\"Sales\"].sum().reset_index()\n",
        "print(monthly_sales)\n"
      ],
      "metadata": {
        "colab": {
          "base_uri": "https://localhost:8080/"
        },
        "id": "nFwKpn9G2gGg",
        "outputId": "0f1c791d-d475-45f6-da57-59790e2863e5"
      },
      "execution_count": 10,
      "outputs": [
        {
          "output_type": "stream",
          "name": "stdout",
          "text": [
            "     Month    Sales\n",
            "0  2024-01  75000.0\n",
            "1  2024-02  30000.0\n",
            "2  2024-03  15000.0\n",
            "3  2024-04   5000.0\n",
            "4  2024-05  20000.0\n"
          ]
        }
      ]
    },
    {
      "cell_type": "markdown",
      "source": [
        "**Bar Chart for Best-Selling Products**"
      ],
      "metadata": {
        "id": "JsuMZp95jPC1"
      }
    },
    {
      "cell_type": "markdown",
      "source": [
        "This creates a bar chart for best-selling products"
      ],
      "metadata": {
        "id": "_uW8fvTGnVy_"
      }
    },
    {
      "cell_type": "code",
      "source": [
        "import matplotlib.pyplot as plt\n",
        "import seaborn as sns\n",
        "\n",
        "plt.figure(figsize=(8,5))\n",
        "sns.barplot(x=\"Product\", y=\"Sales\", data=df, palette=\"Blues\")\n",
        "plt.title(\"Top 5 Best-Selling Products\")\n",
        "plt.xlabel(\"Products\")\n",
        "plt.ylabel(\"Sales\")\n",
        "plt.xticks(rotation=45)\n",
        "plt.show()\n",
        "\n"
      ],
      "metadata": {
        "colab": {
          "base_uri": "https://localhost:8080/",
          "height": 651
        },
        "id": "CuEXM-0r2j5d",
        "outputId": "7af198b6-daf3-42e0-80fc-1be2eeb971cb"
      },
      "execution_count": 15,
      "outputs": [
        {
          "output_type": "stream",
          "name": "stderr",
          "text": [
            "<ipython-input-15-81ce472f7e8c>:5: FutureWarning: \n",
            "\n",
            "Passing `palette` without assigning `hue` is deprecated and will be removed in v0.14.0. Assign the `x` variable to `hue` and set `legend=False` for the same effect.\n",
            "\n",
            "  sns.barplot(x=\"Product\", y=\"Sales\", data=df, palette=\"Blues\")\n"
          ]
        },
        {
          "output_type": "display_data",
          "data": {
            "text/plain": [
              "<Figure size 800x500 with 1 Axes>"
            ],
            "image/png": "[encoded data removed]"
          },
          "metadata": {}
        }
      ]
    },
    {
      "cell_type": "markdown",
      "source": [
        "**Line Chart for Monthly Sales Trend**"
      ],
      "metadata": {
        "id": "xlI1B7SDjEqp"
      }
    },
    {
      "cell_type": "markdown",
      "source": [
        "This visualizes sales over time"
      ],
      "metadata": {
        "id": "vUu67jG6nbGN"
      }
    },
    {
      "cell_type": "code",
      "source": [
        "plt.figure(figsize=(8,5))\n",
        "sns.lineplot(x=monthly_sales.index, y=monthly_sales.values, marker=\"o\", color=\"red\")\n",
        "plt.title(\"Monthly Sales Trend\")\n",
        "plt.xlabel(\"Month\")\n",
        "plt.ylabel(\"Total Sales\")\n",
        "plt.xticks(rotation=45)\n",
        "plt.show()\n"
      ],
      "metadata": {
        "colab": {
          "base_uri": "https://localhost:8080/",
          "height": 524
        },
        "id": "c_T3lmTv2rr2",
        "outputId": "318c0057-9df0-4e43-9e5b-e499ce995bff"
      },
      "execution_count": null,
      "outputs": [
        {
          "output_type": "display_data",
          "data": {
            "text/plain": [
              "<Figure size 800x500 with 1 Axes>"
            ],
            "image/png": "[encoded data removed]"
          },
          "metadata": {}
        }
      ]
    }
  ]
}